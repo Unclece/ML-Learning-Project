{
 "cells": [
  {
   "cell_type": "code",
   "execution_count": 94,
   "metadata": {},
   "outputs": [
    {
     "name": "stderr",
     "output_type": "stream",
     "text": [
      "WARNING:absl:Compiled the loaded model, but the compiled metrics have yet to be built. `model.compile_metrics` will be empty until you train or evaluate the model.\n"
     ]
    }
   ],
   "source": [
    "from keras.models import load_model\n",
    "# 修改 model_path 为你自己保存的模型的位置\n",
    "model_path = r'.\\results\\basic_cnn_model_cat_dog.h5'\n",
    "# 载入模型\n",
    "model = load_model(model_path)\n"
   ]
  },
  {
   "cell_type": "code",
   "execution_count": null,
   "metadata": {},
   "outputs": [],
   "source": [
    "import os, random\n",
    "from matplotlib.pyplot import imshow\n",
    "import numpy as np\n",
    "from PIL import Image\n",
    "%matplotlib inline\n",
    "\n",
    "def read_random_image():\n",
    "    folder=r\".\\datasets\\test\"\n",
    "    file_path = folder + random.choice(os.listdir(folder))\n",
    "    pil_im = Image.open(file_path, 'r')\n",
    "    return pil_im\n"
   ]
  },
  {
   "cell_type": "code",
   "execution_count": 96,
   "metadata": {},
   "outputs": [],
   "source": [
    "def get_predict(pil_im, model):\n",
    "    # 对图片进行缩放\n",
    "    pil_im = pil_im.resize((200, 200))\n",
    "    # 将格式转为 numpy array 格式\n",
    "    array_im = np.asarray(pil_im)\n",
    "    array_im = np.expand_dims(array_im, axis=0)\n",
    "    # 对图片进行预测\n",
    "    result = model.predict(array_im)\n",
    "    if result[0][0] > 0.5:\n",
    "        print(\"预测结果是：狗\")\n",
    "    else:\n",
    "        print(\"预测结果是：猫\")\n",
    "\n"
   ]
  },
  {
   "cell_type": "code",
   "execution_count": null,
   "metadata": {},
   "outputs": [
    {
     "ename": "PermissionError",
     "evalue": "[Errno 13] Permission denied: '.\\\\datasets\\\\test\\\\cat'",
     "output_type": "error",
     "traceback": [
      "\u001b[1;31m---------------------------------------------------------------------------\u001b[0m",
      "\u001b[1;31mPermissionError\u001b[0m                           Traceback (most recent call last)",
      "Cell \u001b[1;32mIn[97], line 1\u001b[0m\n\u001b[1;32m----> 1\u001b[0m pil_im \u001b[38;5;241m=\u001b[39m read_random_image()\n\u001b[0;32m      2\u001b[0m imshow(np\u001b[38;5;241m.\u001b[39masarray(pil_im))\n\u001b[0;32m      3\u001b[0m get_predict(pil_im, model)\n",
      "Cell \u001b[1;32mIn[95], line 10\u001b[0m, in \u001b[0;36mread_random_image\u001b[1;34m()\u001b[0m\n\u001b[0;32m      8\u001b[0m folder\u001b[38;5;241m=\u001b[39m\u001b[38;5;124mr\u001b[39m\u001b[38;5;124m\"\u001b[39m\u001b[38;5;124m.\u001b[39m\u001b[38;5;124m\\\u001b[39m\u001b[38;5;124mdatasets\u001b[39m\u001b[38;5;124m\\\u001b[39m\u001b[38;5;124mtest\u001b[39m\u001b[38;5;124m\"\u001b[39m\n\u001b[0;32m      9\u001b[0m file_path \u001b[38;5;241m=\u001b[39m os\u001b[38;5;241m.\u001b[39mpath\u001b[38;5;241m.\u001b[39mjoin(folder, random\u001b[38;5;241m.\u001b[39mchoice(os\u001b[38;5;241m.\u001b[39mlistdir(folder)))\n\u001b[1;32m---> 10\u001b[0m pil_im \u001b[38;5;241m=\u001b[39m Image\u001b[38;5;241m.\u001b[39mopen(file_path, \u001b[38;5;124m'\u001b[39m\u001b[38;5;124mr\u001b[39m\u001b[38;5;124m'\u001b[39m)\n\u001b[0;32m     11\u001b[0m \u001b[38;5;28;01mreturn\u001b[39;00m pil_im\n",
      "File \u001b[1;32me:\\Anaconda\\Lib\\site-packages\\PIL\\Image.py:3247\u001b[0m, in \u001b[0;36mopen\u001b[1;34m(fp, mode, formats)\u001b[0m\n\u001b[0;32m   3244\u001b[0m     filename \u001b[38;5;241m=\u001b[39m fp\n\u001b[0;32m   3246\u001b[0m \u001b[38;5;28;01mif\u001b[39;00m filename:\n\u001b[1;32m-> 3247\u001b[0m     fp \u001b[38;5;241m=\u001b[39m builtins\u001b[38;5;241m.\u001b[39mopen(filename, \u001b[38;5;124m\"\u001b[39m\u001b[38;5;124mrb\u001b[39m\u001b[38;5;124m\"\u001b[39m)\n\u001b[0;32m   3248\u001b[0m     exclusive_fp \u001b[38;5;241m=\u001b[39m \u001b[38;5;28;01mTrue\u001b[39;00m\n\u001b[0;32m   3250\u001b[0m \u001b[38;5;28;01mtry\u001b[39;00m:\n",
      "\u001b[1;31mPermissionError\u001b[0m: [Errno 13] Permission denied: '.\\\\datasets\\\\test\\\\cat'"
     ]
    }
   ],
   "source": [
    "pil_im = read_random_image()\n",
    "imshow(np.asarray(pil_im))\n",
    "get_predict(pil_im, model)\n",
    "\n"
   ]
  }
 ],
 "metadata": {
  "kernelspec": {
   "display_name": "base",
   "language": "python",
   "name": "python3"
  },
  "language_info": {
   "codemirror_mode": {
    "name": "ipython",
    "version": 3
   },
   "file_extension": ".py",
   "mimetype": "text/x-python",
   "name": "python",
   "nbconvert_exporter": "python",
   "pygments_lexer": "ipython3",
   "version": "3.11.7"
  }
 },
 "nbformat": 4,
 "nbformat_minor": 2
}
